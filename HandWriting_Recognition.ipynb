{
 "cells": [
  {
   "cell_type": "code",
   "execution_count": 1,
   "id": "initial_id",
   "metadata": {
    "collapsed": true,
    "ExecuteTime": {
     "end_time": "2024-01-02T21:52:03.150548Z",
     "start_time": "2024-01-02T21:52:02.052558Z"
    }
   },
   "outputs": [
    {
     "name": "stderr",
     "output_type": "stream",
     "text": [
      "/Users/ammaar/opt/anaconda3/lib/python3.9/site-packages/scipy/__init__.py:155: UserWarning: A NumPy version >=1.18.5 and <1.25.0 is required for this version of SciPy (detected version 1.26.2\n",
      "  warnings.warn(f\"A NumPy version >={np_minversion} and <{np_maxversion}\"\n"
     ]
    }
   ],
   "source": [
    "import numpy as np\n",
    "from matplotlib import pyplot as plt\n",
    "from sklearn import datasets\n",
    "from sklearn.cluster import KMeans"
   ]
  },
  {
   "cell_type": "code",
   "execution_count": 2,
   "outputs": [
    {
     "name": "stdout",
     "output_type": "stream",
     "text": [
      ".. _digits_dataset:\n",
      "\n",
      "Optical recognition of handwritten digits dataset\n",
      "--------------------------------------------------\n",
      "\n",
      "**Data Set Characteristics:**\n",
      "\n",
      "    :Number of Instances: 1797\n",
      "    :Number of Attributes: 64\n",
      "    :Attribute Information: 8x8 image of integer pixels in the range 0..16.\n",
      "    :Missing Attribute Values: None\n",
      "    :Creator: E. Alpaydin (alpaydin '@' boun.edu.tr)\n",
      "    :Date: July; 1998\n",
      "\n",
      "This is a copy of the test set of the UCI ML hand-written digits datasets\n",
      "https://archive.ics.uci.edu/ml/datasets/Optical+Recognition+of+Handwritten+Digits\n",
      "\n",
      "The data set contains images of hand-written digits: 10 classes where\n",
      "each class refers to a digit.\n",
      "\n",
      "Preprocessing programs made available by NIST were used to extract\n",
      "normalized bitmaps of handwritten digits from a preprinted form. From a\n",
      "total of 43 people, 30 contributed to the training set and different 13\n",
      "to the test set. 32x32 bitmaps are divided into nonoverlapping blocks of\n",
      "4x4 and the number of on pixels are counted in each block. This generates\n",
      "an input matrix of 8x8 where each element is an integer in the range\n",
      "0..16. This reduces dimensionality and gives invariance to small\n",
      "distortions.\n",
      "\n",
      "For info on NIST preprocessing routines, see M. D. Garris, J. L. Blue, G.\n",
      "T. Candela, D. L. Dimmick, J. Geist, P. J. Grother, S. A. Janet, and C.\n",
      "L. Wilson, NIST Form-Based Handprint Recognition System, NISTIR 5469,\n",
      "1994.\n",
      "\n",
      ".. topic:: References\n",
      "\n",
      "  - C. Kaynak (1995) Methods of Combining Multiple Classifiers and Their\n",
      "    Applications to Handwritten Digit Recognition, MSc Thesis, Institute of\n",
      "    Graduate Studies in Science and Engineering, Bogazici University.\n",
      "  - E. Alpaydin, C. Kaynak (1998) Cascading Classifiers, Kybernetika.\n",
      "  - Ken Tang and Ponnuthurai N. Suganthan and Xi Yao and A. Kai Qin.\n",
      "    Linear dimensionalityreduction using relevance weighted LDA. School of\n",
      "    Electrical and Electronic Engineering Nanyang Technological University.\n",
      "    2005.\n",
      "  - Claudio Gentile. A New Approximate Maximal Margin Classification\n",
      "    Algorithm. NIPS. 2000.\n"
     ]
    }
   ],
   "source": [
    "digits = datasets.load_digits()\n",
    "print(digits.DESCR)"
   ],
   "metadata": {
    "collapsed": false,
    "ExecuteTime": {
     "end_time": "2024-01-02T21:52:03.164093Z",
     "start_time": "2024-01-02T21:52:03.152038Z"
    }
   },
   "id": "4ff81f47ad60b2d6"
  },
  {
   "cell_type": "code",
   "execution_count": 3,
   "outputs": [
    {
     "name": "stdout",
     "output_type": "stream",
     "text": [
      "[[ 0.  0.  5. ...  0.  0.  0.]\n",
      " [ 0.  0.  0. ... 10.  0.  0.]\n",
      " [ 0.  0.  0. ... 16.  9.  0.]\n",
      " ...\n",
      " [ 0.  0.  1. ...  6.  0.  0.]\n",
      " [ 0.  0.  2. ... 12.  0.  0.]\n",
      " [ 0.  0. 10. ... 12.  1.  0.]]\n"
     ]
    }
   ],
   "source": [
    "print(digits.data)"
   ],
   "metadata": {
    "collapsed": false,
    "ExecuteTime": {
     "end_time": "2024-01-02T21:52:03.167967Z",
     "start_time": "2024-01-02T21:52:03.164874Z"
    }
   },
   "id": "def3c6b54e524234"
  },
  {
   "cell_type": "code",
   "execution_count": 4,
   "outputs": [
    {
     "name": "stdout",
     "output_type": "stream",
     "text": [
      "[0 1 2 ... 8 9 8]\n"
     ]
    }
   ],
   "source": [
    "print(digits.target)"
   ],
   "metadata": {
    "collapsed": false,
    "ExecuteTime": {
     "end_time": "2024-01-02T21:52:03.171409Z",
     "start_time": "2024-01-02T21:52:03.169402Z"
    }
   },
   "id": "c08c3d209048c50a"
  },
  {
   "cell_type": "markdown",
   "source": [
    "### Visualizing a sample image"
   ],
   "metadata": {
    "collapsed": false
   },
   "id": "2eb57da1d7ec6f2b"
  },
  {
   "cell_type": "code",
   "execution_count": 5,
   "outputs": [
    {
     "data": {
      "text/plain": "<Figure size 640x480 with 0 Axes>"
     },
     "metadata": {},
     "output_type": "display_data"
    },
    {
     "data": {
      "text/plain": "<Figure size 480x480 with 1 Axes>",
      "image/png": "[encoded data removed]"
     },
     "metadata": {},
     "output_type": "display_data"
    }
   ],
   "source": [
    "plt.gray()\n",
    "plt.matshow(digits.images[100]) # Should be a 4\n",
    "plt.show()"
   ],
   "metadata": {
    "collapsed": false,
    "ExecuteTime": {
     "end_time": "2024-01-02T21:52:03.300848Z",
     "start_time": "2024-01-02T21:52:03.172982Z"
    }
   },
   "id": "ad073e8a2f38a528"
  },
  {
   "cell_type": "code",
   "execution_count": 6,
   "outputs": [
    {
     "name": "stdout",
     "output_type": "stream",
     "text": [
      "4\n"
     ]
    }
   ],
   "source": [
    "print(digits.target[100])"
   ],
   "metadata": {
    "collapsed": false,
    "ExecuteTime": {
     "end_time": "2024-01-02T21:52:03.306001Z",
     "start_time": "2024-01-02T21:52:03.302580Z"
    }
   },
   "id": "c3b6155909a38c9c"
  },
  {
   "cell_type": "markdown",
   "source": [
    "### K-Means Clustering"
   ],
   "metadata": {
    "collapsed": false
   },
   "id": "389e4704a3ed7bc5"
  },
  {
   "cell_type": "code",
   "execution_count": 7,
   "outputs": [
    {
     "data": {
      "text/plain": "KMeans(n_clusters=10, random_state=40)"
     },
     "execution_count": 7,
     "metadata": {},
     "output_type": "execute_result"
    }
   ],
   "source": [
    "# Because there are 10 digits (0, 1, 2, 3, 4, 5, 6, 7, 8, and 9), there should be 10 clusters.\n",
    "model = KMeans(n_clusters=10, random_state=40)\n",
    "model.fit(digits.data)"
   ],
   "metadata": {
    "collapsed": false,
    "ExecuteTime": {
     "end_time": "2024-01-02T21:52:03.501320Z",
     "start_time": "2024-01-02T21:52:03.307250Z"
    }
   },
   "id": "39b477b6faf4973d"
  },
  {
   "cell_type": "code",
   "execution_count": 8,
   "outputs": [
    {
     "data": {
      "text/plain": "<Figure size 800x300 with 10 Axes>",
      "image/png": "[encoded data removed]"
     },
     "metadata": {},
     "output_type": "display_data"
    }
   ],
   "source": [
    "# Visualizing the centroids after K-Means\n",
    "fig = plt.figure(figsize=(8, 3))\n",
    "fig.suptitle('Cluster Center Images', fontsize=15, fontweight='bold')\n",
    "\n",
    "# Loop that displays each of the cluster centers:\n",
    "for i in range(10): # range(n_clusters)\n",
    "    \n",
    "    # Initialize subplots in a grid of 2x5, i+1 th position \n",
    "    ax = fig.add_subplot(2, 5, 1+i)\n",
    "    \n",
    "    # Display Images\n",
    "    ax.imshow(model.cluster_centers_[i].reshape((8,8)), cmap=plt.cm.binary)\n",
    "    \n",
    "plt.show()\n",
    "    "
   ],
   "metadata": {
    "collapsed": false,
    "ExecuteTime": {
     "end_time": "2024-01-02T21:52:04.041947Z",
     "start_time": "2024-01-02T21:52:03.506262Z"
    }
   },
   "id": "d18ad256fff7579e"
  },
  {
   "cell_type": "markdown",
   "source": [
    "### Testing the Model\n",
    "\n",
    "Using a local host to input my own handwriting into the model"
   ],
   "metadata": {
    "collapsed": false
   },
   "id": "ee8ac266f57dcc95"
  },
  {
   "cell_type": "code",
   "execution_count": 9,
   "outputs": [
    {
     "ename": "AttributeError",
     "evalue": "'NoneType' object has no attribute 'split'",
     "output_type": "error",
     "traceback": [
      "\u001B[0;31m---------------------------------------------------------------------------\u001B[0m",
      "\u001B[0;31mAttributeError\u001B[0m                            Traceback (most recent call last)",
      "\u001B[0;32m/var/folders/k5/jnmt4nm109q482l9q434lxvm0000gn/T/ipykernel_5803/3954121325.py\u001B[0m in \u001B[0;36m<module>\u001B[0;34m\u001B[0m\n\u001B[1;32m      7\u001B[0m ])\n\u001B[1;32m      8\u001B[0m \u001B[0;34m\u001B[0m\u001B[0m\n\u001B[0;32m----> 9\u001B[0;31m \u001B[0mnew_labels\u001B[0m \u001B[0;34m=\u001B[0m \u001B[0mmodel\u001B[0m\u001B[0;34m.\u001B[0m\u001B[0mpredict\u001B[0m\u001B[0;34m(\u001B[0m\u001B[0mnew_samples\u001B[0m\u001B[0;34m)\u001B[0m\u001B[0;34m\u001B[0m\u001B[0;34m\u001B[0m\u001B[0m\n\u001B[0m",
      "\u001B[0;32m~/opt/anaconda3/lib/python3.9/site-packages/sklearn/cluster/_kmeans.py\u001B[0m in \u001B[0;36mpredict\u001B[0;34m(self, X, sample_weight)\u001B[0m\n\u001B[1;32m   1332\u001B[0m         \u001B[0msample_weight\u001B[0m \u001B[0;34m=\u001B[0m \u001B[0m_check_sample_weight\u001B[0m\u001B[0;34m(\u001B[0m\u001B[0msample_weight\u001B[0m\u001B[0;34m,\u001B[0m \u001B[0mX\u001B[0m\u001B[0;34m,\u001B[0m \u001B[0mdtype\u001B[0m\u001B[0;34m=\u001B[0m\u001B[0mX\u001B[0m\u001B[0;34m.\u001B[0m\u001B[0mdtype\u001B[0m\u001B[0;34m)\u001B[0m\u001B[0;34m\u001B[0m\u001B[0;34m\u001B[0m\u001B[0m\n\u001B[1;32m   1333\u001B[0m \u001B[0;34m\u001B[0m\u001B[0m\n\u001B[0;32m-> 1334\u001B[0;31m         return _labels_inertia_threadpool_limit(\n\u001B[0m\u001B[1;32m   1335\u001B[0m             \u001B[0mX\u001B[0m\u001B[0;34m,\u001B[0m \u001B[0msample_weight\u001B[0m\u001B[0;34m,\u001B[0m \u001B[0mx_squared_norms\u001B[0m\u001B[0;34m,\u001B[0m \u001B[0mself\u001B[0m\u001B[0;34m.\u001B[0m\u001B[0mcluster_centers_\u001B[0m\u001B[0;34m,\u001B[0m \u001B[0mself\u001B[0m\u001B[0;34m.\u001B[0m\u001B[0m_n_threads\u001B[0m\u001B[0;34m\u001B[0m\u001B[0;34m\u001B[0m\u001B[0m\n\u001B[1;32m   1336\u001B[0m         )[0]\n",
      "\u001B[0;32m~/opt/anaconda3/lib/python3.9/site-packages/sklearn/cluster/_kmeans.py\u001B[0m in \u001B[0;36m_labels_inertia_threadpool_limit\u001B[0;34m(X, sample_weight, x_squared_norms, centers, n_threads)\u001B[0m\n\u001B[1;32m    753\u001B[0m ):\n\u001B[1;32m    754\u001B[0m     \u001B[0;34m\"\"\"Same as _labels_inertia but in a threadpool_limits context.\"\"\"\u001B[0m\u001B[0;34m\u001B[0m\u001B[0;34m\u001B[0m\u001B[0m\n\u001B[0;32m--> 755\u001B[0;31m     \u001B[0;32mwith\u001B[0m \u001B[0mthreadpool_limits\u001B[0m\u001B[0;34m(\u001B[0m\u001B[0mlimits\u001B[0m\u001B[0;34m=\u001B[0m\u001B[0;36m1\u001B[0m\u001B[0;34m,\u001B[0m \u001B[0muser_api\u001B[0m\u001B[0;34m=\u001B[0m\u001B[0;34m\"blas\"\u001B[0m\u001B[0;34m)\u001B[0m\u001B[0;34m:\u001B[0m\u001B[0;34m\u001B[0m\u001B[0;34m\u001B[0m\u001B[0m\n\u001B[0m\u001B[1;32m    756\u001B[0m         labels, inertia = _labels_inertia(\n\u001B[1;32m    757\u001B[0m             \u001B[0mX\u001B[0m\u001B[0;34m,\u001B[0m \u001B[0msample_weight\u001B[0m\u001B[0;34m,\u001B[0m \u001B[0mx_squared_norms\u001B[0m\u001B[0;34m,\u001B[0m \u001B[0mcenters\u001B[0m\u001B[0;34m,\u001B[0m \u001B[0mn_threads\u001B[0m\u001B[0;34m\u001B[0m\u001B[0;34m\u001B[0m\u001B[0m\n",
      "\u001B[0;32m~/opt/anaconda3/lib/python3.9/site-packages/sklearn/utils/fixes.py\u001B[0m in \u001B[0;36mthreadpool_limits\u001B[0;34m(limits, user_api)\u001B[0m\n\u001B[1;32m    312\u001B[0m         \u001B[0;32mreturn\u001B[0m \u001B[0mcontroller\u001B[0m\u001B[0;34m.\u001B[0m\u001B[0mlimit\u001B[0m\u001B[0;34m(\u001B[0m\u001B[0mlimits\u001B[0m\u001B[0;34m=\u001B[0m\u001B[0mlimits\u001B[0m\u001B[0;34m,\u001B[0m \u001B[0muser_api\u001B[0m\u001B[0;34m=\u001B[0m\u001B[0muser_api\u001B[0m\u001B[0;34m)\u001B[0m\u001B[0;34m\u001B[0m\u001B[0;34m\u001B[0m\u001B[0m\n\u001B[1;32m    313\u001B[0m     \u001B[0;32melse\u001B[0m\u001B[0;34m:\u001B[0m\u001B[0;34m\u001B[0m\u001B[0;34m\u001B[0m\u001B[0m\n\u001B[0;32m--> 314\u001B[0;31m         \u001B[0;32mreturn\u001B[0m \u001B[0mthreadpoolctl\u001B[0m\u001B[0;34m.\u001B[0m\u001B[0mthreadpool_limits\u001B[0m\u001B[0;34m(\u001B[0m\u001B[0mlimits\u001B[0m\u001B[0;34m=\u001B[0m\u001B[0mlimits\u001B[0m\u001B[0;34m,\u001B[0m \u001B[0muser_api\u001B[0m\u001B[0;34m=\u001B[0m\u001B[0muser_api\u001B[0m\u001B[0;34m)\u001B[0m\u001B[0;34m\u001B[0m\u001B[0;34m\u001B[0m\u001B[0m\n\u001B[0m\u001B[1;32m    315\u001B[0m \u001B[0;34m\u001B[0m\u001B[0m\n\u001B[1;32m    316\u001B[0m \u001B[0;34m\u001B[0m\u001B[0m\n",
      "\u001B[0;32m~/opt/anaconda3/lib/python3.9/site-packages/threadpoolctl.py\u001B[0m in \u001B[0;36m__init__\u001B[0;34m(self, limits, user_api)\u001B[0m\n\u001B[1;32m    169\u001B[0m             \u001B[0mself\u001B[0m\u001B[0;34m.\u001B[0m\u001B[0m_check_params\u001B[0m\u001B[0;34m(\u001B[0m\u001B[0mlimits\u001B[0m\u001B[0;34m,\u001B[0m \u001B[0muser_api\u001B[0m\u001B[0;34m)\u001B[0m\u001B[0;34m\u001B[0m\u001B[0;34m\u001B[0m\u001B[0m\n\u001B[1;32m    170\u001B[0m \u001B[0;34m\u001B[0m\u001B[0m\n\u001B[0;32m--> 171\u001B[0;31m         \u001B[0mself\u001B[0m\u001B[0;34m.\u001B[0m\u001B[0m_original_info\u001B[0m \u001B[0;34m=\u001B[0m \u001B[0mself\u001B[0m\u001B[0;34m.\u001B[0m\u001B[0m_set_threadpool_limits\u001B[0m\u001B[0;34m(\u001B[0m\u001B[0;34m)\u001B[0m\u001B[0;34m\u001B[0m\u001B[0;34m\u001B[0m\u001B[0m\n\u001B[0m\u001B[1;32m    172\u001B[0m \u001B[0;34m\u001B[0m\u001B[0m\n\u001B[1;32m    173\u001B[0m     \u001B[0;32mdef\u001B[0m \u001B[0m__enter__\u001B[0m\u001B[0;34m(\u001B[0m\u001B[0mself\u001B[0m\u001B[0;34m)\u001B[0m\u001B[0;34m:\u001B[0m\u001B[0;34m\u001B[0m\u001B[0;34m\u001B[0m\u001B[0m\n",
      "\u001B[0;32m~/opt/anaconda3/lib/python3.9/site-packages/threadpoolctl.py\u001B[0m in \u001B[0;36m_set_threadpool_limits\u001B[0;34m(self)\u001B[0m\n\u001B[1;32m    266\u001B[0m             \u001B[0;32mreturn\u001B[0m \u001B[0;32mNone\u001B[0m\u001B[0;34m\u001B[0m\u001B[0;34m\u001B[0m\u001B[0m\n\u001B[1;32m    267\u001B[0m \u001B[0;34m\u001B[0m\u001B[0m\n\u001B[0;32m--> 268\u001B[0;31m         modules = _ThreadpoolInfo(prefixes=self._prefixes,\n\u001B[0m\u001B[1;32m    269\u001B[0m                                   user_api=self._user_api)\n\u001B[1;32m    270\u001B[0m         \u001B[0;32mfor\u001B[0m \u001B[0mmodule\u001B[0m \u001B[0;32min\u001B[0m \u001B[0mmodules\u001B[0m\u001B[0;34m:\u001B[0m\u001B[0;34m\u001B[0m\u001B[0;34m\u001B[0m\u001B[0m\n",
      "\u001B[0;32m~/opt/anaconda3/lib/python3.9/site-packages/threadpoolctl.py\u001B[0m in \u001B[0;36m__init__\u001B[0;34m(self, user_api, prefixes, modules)\u001B[0m\n\u001B[1;32m    338\u001B[0m \u001B[0;34m\u001B[0m\u001B[0m\n\u001B[1;32m    339\u001B[0m             \u001B[0mself\u001B[0m\u001B[0;34m.\u001B[0m\u001B[0mmodules\u001B[0m \u001B[0;34m=\u001B[0m \u001B[0;34m[\u001B[0m\u001B[0;34m]\u001B[0m\u001B[0;34m\u001B[0m\u001B[0;34m\u001B[0m\u001B[0m\n\u001B[0;32m--> 340\u001B[0;31m             \u001B[0mself\u001B[0m\u001B[0;34m.\u001B[0m\u001B[0m_load_modules\u001B[0m\u001B[0;34m(\u001B[0m\u001B[0;34m)\u001B[0m\u001B[0;34m\u001B[0m\u001B[0;34m\u001B[0m\u001B[0m\n\u001B[0m\u001B[1;32m    341\u001B[0m             \u001B[0mself\u001B[0m\u001B[0;34m.\u001B[0m\u001B[0m_warn_if_incompatible_openmp\u001B[0m\u001B[0;34m(\u001B[0m\u001B[0;34m)\u001B[0m\u001B[0;34m\u001B[0m\u001B[0;34m\u001B[0m\u001B[0m\n\u001B[1;32m    342\u001B[0m         \u001B[0;32melse\u001B[0m\u001B[0;34m:\u001B[0m\u001B[0;34m\u001B[0m\u001B[0;34m\u001B[0m\u001B[0m\n",
      "\u001B[0;32m~/opt/anaconda3/lib/python3.9/site-packages/threadpoolctl.py\u001B[0m in \u001B[0;36m_load_modules\u001B[0;34m(self)\u001B[0m\n\u001B[1;32m    369\u001B[0m         \u001B[0;34m\"\"\"Loop through loaded libraries and store supported ones\"\"\"\u001B[0m\u001B[0;34m\u001B[0m\u001B[0;34m\u001B[0m\u001B[0m\n\u001B[1;32m    370\u001B[0m         \u001B[0;32mif\u001B[0m \u001B[0msys\u001B[0m\u001B[0;34m.\u001B[0m\u001B[0mplatform\u001B[0m \u001B[0;34m==\u001B[0m \u001B[0;34m\"darwin\"\u001B[0m\u001B[0;34m:\u001B[0m\u001B[0;34m\u001B[0m\u001B[0;34m\u001B[0m\u001B[0m\n\u001B[0;32m--> 371\u001B[0;31m             \u001B[0mself\u001B[0m\u001B[0;34m.\u001B[0m\u001B[0m_find_modules_with_dyld\u001B[0m\u001B[0;34m(\u001B[0m\u001B[0;34m)\u001B[0m\u001B[0;34m\u001B[0m\u001B[0;34m\u001B[0m\u001B[0m\n\u001B[0m\u001B[1;32m    372\u001B[0m         \u001B[0;32melif\u001B[0m \u001B[0msys\u001B[0m\u001B[0;34m.\u001B[0m\u001B[0mplatform\u001B[0m \u001B[0;34m==\u001B[0m \u001B[0;34m\"win32\"\u001B[0m\u001B[0;34m:\u001B[0m\u001B[0;34m\u001B[0m\u001B[0;34m\u001B[0m\u001B[0m\n\u001B[1;32m    373\u001B[0m             \u001B[0mself\u001B[0m\u001B[0;34m.\u001B[0m\u001B[0m_find_modules_with_enum_process_module_ex\u001B[0m\u001B[0;34m(\u001B[0m\u001B[0;34m)\u001B[0m\u001B[0;34m\u001B[0m\u001B[0;34m\u001B[0m\u001B[0m\n",
      "\u001B[0;32m~/opt/anaconda3/lib/python3.9/site-packages/threadpoolctl.py\u001B[0m in \u001B[0;36m_find_modules_with_dyld\u001B[0;34m(self)\u001B[0m\n\u001B[1;32m    426\u001B[0m \u001B[0;34m\u001B[0m\u001B[0m\n\u001B[1;32m    427\u001B[0m             \u001B[0;31m# Store the module if it is supported and selected\u001B[0m\u001B[0;34m\u001B[0m\u001B[0;34m\u001B[0m\u001B[0m\n\u001B[0;32m--> 428\u001B[0;31m             \u001B[0mself\u001B[0m\u001B[0;34m.\u001B[0m\u001B[0m_make_module_from_path\u001B[0m\u001B[0;34m(\u001B[0m\u001B[0mfilepath\u001B[0m\u001B[0;34m)\u001B[0m\u001B[0;34m\u001B[0m\u001B[0;34m\u001B[0m\u001B[0m\n\u001B[0m\u001B[1;32m    429\u001B[0m \u001B[0;34m\u001B[0m\u001B[0m\n\u001B[1;32m    430\u001B[0m     \u001B[0;32mdef\u001B[0m \u001B[0m_find_modules_with_enum_process_module_ex\u001B[0m\u001B[0;34m(\u001B[0m\u001B[0mself\u001B[0m\u001B[0;34m)\u001B[0m\u001B[0;34m:\u001B[0m\u001B[0;34m\u001B[0m\u001B[0;34m\u001B[0m\u001B[0m\n",
      "\u001B[0;32m~/opt/anaconda3/lib/python3.9/site-packages/threadpoolctl.py\u001B[0m in \u001B[0;36m_make_module_from_path\u001B[0;34m(self, filepath)\u001B[0m\n\u001B[1;32m    513\u001B[0m             \u001B[0;32mif\u001B[0m \u001B[0mprefix\u001B[0m \u001B[0;32min\u001B[0m \u001B[0mself\u001B[0m\u001B[0;34m.\u001B[0m\u001B[0mprefixes\u001B[0m \u001B[0;32mor\u001B[0m \u001B[0muser_api\u001B[0m \u001B[0;32min\u001B[0m \u001B[0mself\u001B[0m\u001B[0;34m.\u001B[0m\u001B[0muser_api\u001B[0m\u001B[0;34m:\u001B[0m\u001B[0;34m\u001B[0m\u001B[0;34m\u001B[0m\u001B[0m\n\u001B[1;32m    514\u001B[0m                 \u001B[0mmodule_class\u001B[0m \u001B[0;34m=\u001B[0m \u001B[0mglobals\u001B[0m\u001B[0;34m(\u001B[0m\u001B[0;34m)\u001B[0m\u001B[0;34m[\u001B[0m\u001B[0mmodule_class\u001B[0m\u001B[0;34m]\u001B[0m\u001B[0;34m\u001B[0m\u001B[0;34m\u001B[0m\u001B[0m\n\u001B[0;32m--> 515\u001B[0;31m                 \u001B[0mmodule\u001B[0m \u001B[0;34m=\u001B[0m \u001B[0mmodule_class\u001B[0m\u001B[0;34m(\u001B[0m\u001B[0mfilepath\u001B[0m\u001B[0;34m,\u001B[0m \u001B[0mprefix\u001B[0m\u001B[0;34m,\u001B[0m \u001B[0muser_api\u001B[0m\u001B[0;34m,\u001B[0m \u001B[0minternal_api\u001B[0m\u001B[0;34m)\u001B[0m\u001B[0;34m\u001B[0m\u001B[0;34m\u001B[0m\u001B[0m\n\u001B[0m\u001B[1;32m    516\u001B[0m                 \u001B[0mself\u001B[0m\u001B[0;34m.\u001B[0m\u001B[0mmodules\u001B[0m\u001B[0;34m.\u001B[0m\u001B[0mappend\u001B[0m\u001B[0;34m(\u001B[0m\u001B[0mmodule\u001B[0m\u001B[0;34m)\u001B[0m\u001B[0;34m\u001B[0m\u001B[0;34m\u001B[0m\u001B[0m\n\u001B[1;32m    517\u001B[0m \u001B[0;34m\u001B[0m\u001B[0m\n",
      "\u001B[0;32m~/opt/anaconda3/lib/python3.9/site-packages/threadpoolctl.py\u001B[0m in \u001B[0;36m__init__\u001B[0;34m(self, filepath, prefix, user_api, internal_api)\u001B[0m\n\u001B[1;32m    604\u001B[0m         \u001B[0mself\u001B[0m\u001B[0;34m.\u001B[0m\u001B[0minternal_api\u001B[0m \u001B[0;34m=\u001B[0m \u001B[0minternal_api\u001B[0m\u001B[0;34m\u001B[0m\u001B[0;34m\u001B[0m\u001B[0m\n\u001B[1;32m    605\u001B[0m         \u001B[0mself\u001B[0m\u001B[0;34m.\u001B[0m\u001B[0m_dynlib\u001B[0m \u001B[0;34m=\u001B[0m \u001B[0mctypes\u001B[0m\u001B[0;34m.\u001B[0m\u001B[0mCDLL\u001B[0m\u001B[0;34m(\u001B[0m\u001B[0mfilepath\u001B[0m\u001B[0;34m,\u001B[0m \u001B[0mmode\u001B[0m\u001B[0;34m=\u001B[0m\u001B[0m_RTLD_NOLOAD\u001B[0m\u001B[0;34m)\u001B[0m\u001B[0;34m\u001B[0m\u001B[0;34m\u001B[0m\u001B[0m\n\u001B[0;32m--> 606\u001B[0;31m         \u001B[0mself\u001B[0m\u001B[0;34m.\u001B[0m\u001B[0mversion\u001B[0m \u001B[0;34m=\u001B[0m \u001B[0mself\u001B[0m\u001B[0;34m.\u001B[0m\u001B[0mget_version\u001B[0m\u001B[0;34m(\u001B[0m\u001B[0;34m)\u001B[0m\u001B[0;34m\u001B[0m\u001B[0;34m\u001B[0m\u001B[0m\n\u001B[0m\u001B[1;32m    607\u001B[0m         \u001B[0mself\u001B[0m\u001B[0;34m.\u001B[0m\u001B[0mnum_threads\u001B[0m \u001B[0;34m=\u001B[0m \u001B[0mself\u001B[0m\u001B[0;34m.\u001B[0m\u001B[0mget_num_threads\u001B[0m\u001B[0;34m(\u001B[0m\u001B[0;34m)\u001B[0m\u001B[0;34m\u001B[0m\u001B[0;34m\u001B[0m\u001B[0m\n\u001B[1;32m    608\u001B[0m         \u001B[0mself\u001B[0m\u001B[0;34m.\u001B[0m\u001B[0m_get_extra_info\u001B[0m\u001B[0;34m(\u001B[0m\u001B[0;34m)\u001B[0m\u001B[0;34m\u001B[0m\u001B[0;34m\u001B[0m\u001B[0m\n",
      "\u001B[0;32m~/opt/anaconda3/lib/python3.9/site-packages/threadpoolctl.py\u001B[0m in \u001B[0;36mget_version\u001B[0;34m(self)\u001B[0m\n\u001B[1;32m    644\u001B[0m                              lambda: None)\n\u001B[1;32m    645\u001B[0m         \u001B[0mget_config\u001B[0m\u001B[0;34m.\u001B[0m\u001B[0mrestype\u001B[0m \u001B[0;34m=\u001B[0m \u001B[0mctypes\u001B[0m\u001B[0;34m.\u001B[0m\u001B[0mc_char_p\u001B[0m\u001B[0;34m\u001B[0m\u001B[0;34m\u001B[0m\u001B[0m\n\u001B[0;32m--> 646\u001B[0;31m         \u001B[0mconfig\u001B[0m \u001B[0;34m=\u001B[0m \u001B[0mget_config\u001B[0m\u001B[0;34m(\u001B[0m\u001B[0;34m)\u001B[0m\u001B[0;34m.\u001B[0m\u001B[0msplit\u001B[0m\u001B[0;34m(\u001B[0m\u001B[0;34m)\u001B[0m\u001B[0;34m\u001B[0m\u001B[0;34m\u001B[0m\u001B[0m\n\u001B[0m\u001B[1;32m    647\u001B[0m         \u001B[0;32mif\u001B[0m \u001B[0mconfig\u001B[0m\u001B[0;34m[\u001B[0m\u001B[0;36m0\u001B[0m\u001B[0;34m]\u001B[0m \u001B[0;34m==\u001B[0m \u001B[0;34mb\"OpenBLAS\"\u001B[0m\u001B[0;34m:\u001B[0m\u001B[0;34m\u001B[0m\u001B[0;34m\u001B[0m\u001B[0m\n\u001B[1;32m    648\u001B[0m             \u001B[0;32mreturn\u001B[0m \u001B[0mconfig\u001B[0m\u001B[0;34m[\u001B[0m\u001B[0;36m1\u001B[0m\u001B[0;34m]\u001B[0m\u001B[0;34m.\u001B[0m\u001B[0mdecode\u001B[0m\u001B[0;34m(\u001B[0m\u001B[0;34m\"utf-8\"\u001B[0m\u001B[0;34m)\u001B[0m\u001B[0;34m\u001B[0m\u001B[0;34m\u001B[0m\u001B[0m\n",
      "\u001B[0;31mAttributeError\u001B[0m: 'NoneType' object has no attribute 'split'"
     ]
    }
   ],
   "source": [
    "# Outputted array from my handwriting (See README.MD)\n",
    "new_samples = np.array([\n",
    "    [0.08,3.88,4.03,3.80,3.72,2.35,0.81,0.00,0.53,7.47,7.62,7.61,7.62,7.62,7.61,7.14,0.00,1.44,2.28,2.28,3.27,6.54,7.62,7.38,0.00,0.00,0.00,0.00,1.36,7.31,7.62,4.49,0.00,0.00,4.64,6.86,7.24,7.62,7.62,7.62,0.00,0.00,5.95,7.62,7.62,7.09,6.10,5.03,0.00,0.00,5.16,7.62,6.54,1.14,0.00,0.00,0.00,2.43,7.62,6.93,0.76,0.00,0.00,0.00],\n",
    "    [0.00,3.98,5.32,4.80,4.57,4.10,3.50,2.18,0.00,6.37,5.98,6.09,6.30,7.22,7.60,7.59,0.00,0.00,0.00,0.00,0.61,6.47,7.34,3.20,0.30,3.92,6.04,7.52,7.60,7.61,6.08,2.64,0.99,6.75,6.01,7.38,7.53,5.66,6.69,5.24,0.00,0.00,3.27,7.62,4.29,0.00,0.00,0.00,0.00,0.68,7.16,5.77,0.07,0.00,0.00,0.00,0.00,4.11,7.46,1.41,0.00,0.00,0.00,0.00],\n",
    "    [0.74,1.52,1.59,2.74,3.03,2.27,0.07,0.00,4.87,7.62,7.62,7.23,6.24,7.62,6.62,2.78,0.00,0.38,0.38,0.00,0.68,5.94,7.37,2.86,0.13,2.51,3.04,3.11,6.59,7.28,2.25,0.00,1.06,6.83,7.61,7.62,7.62,7.62,7.62,4.83,0.00,2.79,7.53,2.72,0.00,0.38,1.90,1.37,0.23,6.73,4.66,0.00,0.00,0.00,0.00,0.00,0.31,5.10,0.82,0.00,0.00,0.00,0.00,0.00],\n",
    "    [0.00,3.70,4.56,4.57,5.33,4.87,4.25,1.29,0.00,3.70,4.56,4.57,4.48,6.07,7.62,3.32,0.00,0.00,0.00,0.00,0.74,7.14,4.94,0.00,0.00,2.03,6.69,7.52,7.44,7.61,4.34,1.67,0.00,0.81,2.88,4.49,7.58,4.69,5.71,3.73,0.00,0.00,0.51,6.83,5.06,0.00,0.00,0.00,0.00,0.00,4.96,6.90,0.53,0.00,0.00,0.00,0.00,0.00,6.46,2.41,0.00,0.00,0.00,0.00]\n",
    "])\n",
    "\n",
    "new_labels = model.predict(new_samples)"
   ],
   "metadata": {
    "collapsed": false,
    "ExecuteTime": {
     "end_time": "2024-01-02T21:52:04.166089Z",
     "start_time": "2024-01-02T21:52:04.047680Z"
    }
   },
   "id": "56caa648de6ba8c1"
  },
  {
   "cell_type": "code",
   "execution_count": null,
   "outputs": [],
   "source": [
    "new_labels = model.predict(new_samples)\n",
    "print(new_samples)\n",
    "# print(new_labels)\n",
    "# for i in range(len(new_labels)):\n",
    "#     if new_labels[i] == 0:\n",
    "#         print(0, end='')\n",
    "#     elif new_labels[i] == 1:\n",
    "#         print(9, end='')\n",
    "#     elif new_labels[i] == 2:\n",
    "#         print(2, end='')\n",
    "#     elif new_labels[i] == 3:\n",
    "#         print(1, end='')\n",
    "#     elif new_labels[i] == 4:\n",
    "#         print(6, end='')\n",
    "#     elif new_labels[i] == 5:\n",
    "#         print(8, end='')\n",
    "#     elif new_labels[i] == 6:\n",
    "#         print(4, end='')\n",
    "#     elif new_labels[i] == 7:\n",
    "#         print(5, end='')\n",
    "#     elif new_labels[i] == 8:\n",
    "#         print(7, end='')\n",
    "#     elif new_labels[i] == 9:\n",
    "#         print(3, end='')\n"
   ],
   "metadata": {
    "collapsed": false,
    "ExecuteTime": {
     "start_time": "2024-01-02T21:52:04.166093Z"
    }
   },
   "id": "e773e11e1a767cea"
  },
  {
   "cell_type": "code",
   "execution_count": null,
   "outputs": [],
   "source": [],
   "metadata": {
    "collapsed": false
   },
   "id": "33991be14c090f7e"
  },
  {
   "cell_type": "code",
   "execution_count": null,
   "outputs": [],
   "source": [],
   "metadata": {
    "collapsed": false,
    "ExecuteTime": {
     "start_time": "2024-01-02T21:52:04.167125Z"
    }
   },
   "id": "d94b3ac6db1a3bcf"
  }
 ],
 "metadata": {
  "kernelspec": {
   "display_name": "Python 3",
   "language": "python",
   "name": "python3"
  },
  "language_info": {
   "codemirror_mode": {
    "name": "ipython",
    "version": 2
   },
   "file_extension": ".py",
   "mimetype": "text/x-python",
   "name": "python",
   "nbconvert_exporter": "python",
   "pygments_lexer": "ipython2",
   "version": "2.7.6"
  }
 },
 "nbformat": 4,
 "nbformat_minor": 5
}
